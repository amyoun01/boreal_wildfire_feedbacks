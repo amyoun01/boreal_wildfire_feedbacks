{
 "cells": [
  {
   "attachments": {},
   "cell_type": "markdown",
   "metadata": {},
   "source": [
    "\n",
    "### **Bias-correcting and downscaling  temperature, precipitation, and wind speed**\n",
    "\n",
    "##### This jupyter notebook runs through the steps for bias correcting and downscaling output from the EC-Earth3-Veg Global Climate Model under CMIP6.\n",
    "\n",
    "Author: Adam Young  \n",
    "Date: 2023-02-10  \n",
    "Contact: adam.m.young@outlook.com  \n",
    "\n",
    "--------------------------------------\n",
    "\n",
    "The steps for this example are as follows:  \n",
    "1. Load in required libraries\n",
    "2. Read in 30 yr of data for our:  \n",
    "    - Reference Data Set (ERA5, 1980-2009)  \n",
    "    - Historical GCM output (EC-Earth3-Veg, 1980-2009)  \n",
    "    - Future projected GCM output (EC-Earth3-Veg, 2030-2059)  \n",
    "\n",
    "    The above datasets are all read in NetCDF format using the [xarray][1] library  \n",
    "3. For select grid cells/locations, apply a quantile delta mapping approach ([Cannon et al. 2015][2]) to bias correct near-surface air temperature, daily precipitation, and 10-metre wind speed. Use basic stats and numpy packages at first to walk through the individual steps. \n",
    "4. Compare results from step 3 to bias corrections derived using the [xclim][3] library.  \n",
    "\n",
    "[1]: <https://docs.xarray.dev>\n",
    "[2]: <https://doi.org/10.1175/JCLI-D-14-00754.1>\n",
    "[3]: <https://github.com/Ouranosinc/xclim>"
   ]
  },
  {
   "attachments": {},
   "cell_type": "markdown",
   "metadata": {},
   "source": [
    "\n",
    "First, import required packages ..."
   ]
  },
  {
   "cell_type": "code",
   "execution_count": 63,
   "metadata": {},
   "outputs": [],
   "source": [
    "from pathlib import Path\n",
    "\n",
    "import numpy as np\n",
    "\n",
    "# Module for bias correcting from xclim\n",
    "from xclim.sdba import QuantileDeltaMapping\n",
    "\n",
    "# Needed to account for low precip values\n",
    "from xclim.sdba.processing import jitter_under_thresh \n",
    "import xarray as xr"
   ]
  },
  {
   "attachments": {},
   "cell_type": "markdown",
   "metadata": {},
   "source": [
    "Next, read in the following three datasets ...  \n",
    "\n",
    " - ref: reference observational/reanalysis dataset, here [ERA5][4]. Use years of 1980-2009 for reference time period\n",
    " - hst: historical GCM data for [EC-Earth3-Veg][5] for the same time period as ERA5 (1080-2009)\n",
    " - prj: projected GCM output for EC-Earth3-Veg for 2030-2059 and 2060-2089\n",
    "\n",
    "As a brief aside, EC-Earth3-Veg was determined to have the highest ranking among 101 GCM-ensemble combinations for Alaska using the [gcmeval tool][6].\n",
    "\n",
    "[4]: <https://www.ecmwf.int/en/forecasts/datasets/reanalysis-datasets/era5>\n",
    "[5]: <https://doi.org/10.5194/gmd-15-2973-2022>\n",
    "[6]: <https://gcmeval.met.no>"
   ]
  },
  {
   "cell_type": "code",
   "execution_count": 64,
   "metadata": {},
   "outputs": [
    {
     "ename": "TypeError",
     "evalue": "'>' not supported between instances of 'int' and 'cftime._cftime.DatetimeNoLeap'",
     "output_type": "error",
     "traceback": [
      "\u001b[0;31m---------------------------------------------------------------------------\u001b[0m",
      "\u001b[0;31mKeyError\u001b[0m                                  Traceback (most recent call last)",
      "File \u001b[0;32m~/miniconda3/envs/py39/lib/python3.9/site-packages/pandas/core/indexes/base.py:3803\u001b[0m, in \u001b[0;36mIndex.get_loc\u001b[0;34m(self, key, method, tolerance)\u001b[0m\n\u001b[1;32m   3802\u001b[0m \u001b[39mtry\u001b[39;00m:\n\u001b[0;32m-> 3803\u001b[0m     \u001b[39mreturn\u001b[39;00m \u001b[39mself\u001b[39;49m\u001b[39m.\u001b[39;49m_engine\u001b[39m.\u001b[39;49mget_loc(casted_key)\n\u001b[1;32m   3804\u001b[0m \u001b[39mexcept\u001b[39;00m \u001b[39mKeyError\u001b[39;00m \u001b[39mas\u001b[39;00m err:\n",
      "File \u001b[0;32m~/miniconda3/envs/py39/lib/python3.9/site-packages/pandas/_libs/index.pyx:138\u001b[0m, in \u001b[0;36mpandas._libs.index.IndexEngine.get_loc\u001b[0;34m()\u001b[0m\n",
      "File \u001b[0;32m~/miniconda3/envs/py39/lib/python3.9/site-packages/pandas/_libs/index.pyx:165\u001b[0m, in \u001b[0;36mpandas._libs.index.IndexEngine.get_loc\u001b[0;34m()\u001b[0m\n",
      "File \u001b[0;32mpandas/_libs/hashtable_class_helper.pxi:5745\u001b[0m, in \u001b[0;36mpandas._libs.hashtable.PyObjectHashTable.get_item\u001b[0;34m()\u001b[0m\n",
      "File \u001b[0;32mpandas/_libs/hashtable_class_helper.pxi:5753\u001b[0m, in \u001b[0;36mpandas._libs.hashtable.PyObjectHashTable.get_item\u001b[0;34m()\u001b[0m\n",
      "\u001b[0;31mKeyError\u001b[0m: 1980",
      "\nThe above exception was the direct cause of the following exception:\n",
      "\u001b[0;31mKeyError\u001b[0m                                  Traceback (most recent call last)",
      "File \u001b[0;32m~/miniconda3/envs/py39/lib/python3.9/site-packages/pandas/core/indexes/base.py:6723\u001b[0m, in \u001b[0;36mIndex.get_slice_bound\u001b[0;34m(self, label, side, kind)\u001b[0m\n\u001b[1;32m   6722\u001b[0m \u001b[39mtry\u001b[39;00m:\n\u001b[0;32m-> 6723\u001b[0m     slc \u001b[39m=\u001b[39m \u001b[39mself\u001b[39;49m\u001b[39m.\u001b[39;49mget_loc(label)\n\u001b[1;32m   6724\u001b[0m \u001b[39mexcept\u001b[39;00m \u001b[39mKeyError\u001b[39;00m \u001b[39mas\u001b[39;00m err:\n",
      "File \u001b[0;32m~/miniconda3/envs/py39/lib/python3.9/site-packages/xarray/coding/cftimeindex.py:468\u001b[0m, in \u001b[0;36mCFTimeIndex.get_loc\u001b[0;34m(self, key, method, tolerance)\u001b[0m\n\u001b[1;32m    467\u001b[0m \u001b[39melse\u001b[39;00m:\n\u001b[0;32m--> 468\u001b[0m     \u001b[39mreturn\u001b[39;00m pd\u001b[39m.\u001b[39;49mIndex\u001b[39m.\u001b[39;49mget_loc(\u001b[39mself\u001b[39;49m, key, method\u001b[39m=\u001b[39;49mmethod, tolerance\u001b[39m=\u001b[39;49mtolerance)\n",
      "File \u001b[0;32m~/miniconda3/envs/py39/lib/python3.9/site-packages/pandas/core/indexes/base.py:3805\u001b[0m, in \u001b[0;36mIndex.get_loc\u001b[0;34m(self, key, method, tolerance)\u001b[0m\n\u001b[1;32m   3804\u001b[0m \u001b[39mexcept\u001b[39;00m \u001b[39mKeyError\u001b[39;00m \u001b[39mas\u001b[39;00m err:\n\u001b[0;32m-> 3805\u001b[0m     \u001b[39mraise\u001b[39;00m \u001b[39mKeyError\u001b[39;00m(key) \u001b[39mfrom\u001b[39;00m \u001b[39merr\u001b[39;00m\n\u001b[1;32m   3806\u001b[0m \u001b[39mexcept\u001b[39;00m \u001b[39mTypeError\u001b[39;00m:\n\u001b[1;32m   3807\u001b[0m     \u001b[39m# If we have a listlike key, _check_indexing_error will raise\u001b[39;00m\n\u001b[1;32m   3808\u001b[0m     \u001b[39m#  InvalidIndexError. Otherwise we fall through and re-raise\u001b[39;00m\n\u001b[1;32m   3809\u001b[0m     \u001b[39m#  the TypeError.\u001b[39;00m\n",
      "\u001b[0;31mKeyError\u001b[0m: 1980",
      "\nDuring handling of the above exception, another exception occurred:\n",
      "\u001b[0;31mTypeError\u001b[0m                                 Traceback (most recent call last)",
      "Cell \u001b[0;32mIn[64], line 32\u001b[0m\n\u001b[1;32m     29\u001b[0m ref \u001b[39m=\u001b[39m xr\u001b[39m.\u001b[39mopen_mfdataset(ref_filelist,engine\u001b[39m=\u001b[39m\u001b[39m'\u001b[39m\u001b[39mh5netcdf\u001b[39m\u001b[39m'\u001b[39m,parallel\u001b[39m=\u001b[39m\u001b[39mTrue\u001b[39;00m)\n\u001b[1;32m     30\u001b[0m gcm \u001b[39m=\u001b[39m xr\u001b[39m.\u001b[39mopen_mfdataset(gcm_filelist,engine\u001b[39m=\u001b[39m\u001b[39m'\u001b[39m\u001b[39mh5netcdf\u001b[39m\u001b[39m'\u001b[39m,parallel\u001b[39m=\u001b[39m\u001b[39mTrue\u001b[39;00m)\n\u001b[0;32m---> 32\u001b[0m hst \u001b[39m=\u001b[39m gcm\u001b[39m.\u001b[39;49msel(time\u001b[39m=\u001b[39;49m\u001b[39mslice\u001b[39;49m(hst_yr[\u001b[39m0\u001b[39;49m],hst_yr[\u001b[39m-\u001b[39;49m\u001b[39m1\u001b[39;49m]))\n\u001b[1;32m     33\u001b[0m prj \u001b[39m=\u001b[39m gcm\u001b[39m.\u001b[39msel(time\u001b[39m=\u001b[39m\u001b[39mslice\u001b[39m(prj_yr[\u001b[39m0\u001b[39m],prj_yr[\u001b[39m-\u001b[39m\u001b[39m1\u001b[39m]))\n\u001b[1;32m     35\u001b[0m \u001b[39mdel\u001b[39;00m gcm\n",
      "File \u001b[0;32m~/miniconda3/envs/py39/lib/python3.9/site-packages/xarray/core/dataset.py:2565\u001b[0m, in \u001b[0;36mDataset.sel\u001b[0;34m(self, indexers, method, tolerance, drop, **indexers_kwargs)\u001b[0m\n\u001b[1;32m   2504\u001b[0m \u001b[39m\u001b[39m\u001b[39m\"\"\"Returns a new dataset with each array indexed by tick labels\u001b[39;00m\n\u001b[1;32m   2505\u001b[0m \u001b[39malong the specified dimension(s).\u001b[39;00m\n\u001b[1;32m   2506\u001b[0m \n\u001b[0;32m   (...)\u001b[0m\n\u001b[1;32m   2562\u001b[0m \u001b[39mDataArray.sel\u001b[39;00m\n\u001b[1;32m   2563\u001b[0m \u001b[39m\"\"\"\u001b[39;00m\n\u001b[1;32m   2564\u001b[0m indexers \u001b[39m=\u001b[39m either_dict_or_kwargs(indexers, indexers_kwargs, \u001b[39m\"\u001b[39m\u001b[39msel\u001b[39m\u001b[39m\"\u001b[39m)\n\u001b[0;32m-> 2565\u001b[0m query_results \u001b[39m=\u001b[39m map_index_queries(\n\u001b[1;32m   2566\u001b[0m     \u001b[39mself\u001b[39;49m, indexers\u001b[39m=\u001b[39;49mindexers, method\u001b[39m=\u001b[39;49mmethod, tolerance\u001b[39m=\u001b[39;49mtolerance\n\u001b[1;32m   2567\u001b[0m )\n\u001b[1;32m   2569\u001b[0m \u001b[39mif\u001b[39;00m drop:\n\u001b[1;32m   2570\u001b[0m     no_scalar_variables \u001b[39m=\u001b[39m {}\n",
      "File \u001b[0;32m~/miniconda3/envs/py39/lib/python3.9/site-packages/xarray/core/indexing.py:183\u001b[0m, in \u001b[0;36mmap_index_queries\u001b[0;34m(obj, indexers, method, tolerance, **indexers_kwargs)\u001b[0m\n\u001b[1;32m    181\u001b[0m         results\u001b[39m.\u001b[39mappend(IndexSelResult(labels))\n\u001b[1;32m    182\u001b[0m     \u001b[39melse\u001b[39;00m:\n\u001b[0;32m--> 183\u001b[0m         results\u001b[39m.\u001b[39mappend(index\u001b[39m.\u001b[39;49msel(labels, \u001b[39m*\u001b[39;49m\u001b[39m*\u001b[39;49moptions))\n\u001b[1;32m    185\u001b[0m merged \u001b[39m=\u001b[39m merge_sel_results(results)\n\u001b[1;32m    187\u001b[0m \u001b[39m# drop dimension coordinates found in dimension indexers\u001b[39;00m\n\u001b[1;32m    188\u001b[0m \u001b[39m# (also drop multi-index if any)\u001b[39;00m\n\u001b[1;32m    189\u001b[0m \u001b[39m# (.sel() already ensures alignment)\u001b[39;00m\n",
      "File \u001b[0;32m~/miniconda3/envs/py39/lib/python3.9/site-packages/xarray/core/indexes.py:442\u001b[0m, in \u001b[0;36mPandasIndex.sel\u001b[0;34m(self, labels, method, tolerance)\u001b[0m\n\u001b[1;32m    439\u001b[0m coord_name, label \u001b[39m=\u001b[39m \u001b[39mnext\u001b[39m(\u001b[39miter\u001b[39m(labels\u001b[39m.\u001b[39mitems()))\n\u001b[1;32m    441\u001b[0m \u001b[39mif\u001b[39;00m \u001b[39misinstance\u001b[39m(label, \u001b[39mslice\u001b[39m):\n\u001b[0;32m--> 442\u001b[0m     indexer \u001b[39m=\u001b[39m _query_slice(\u001b[39mself\u001b[39;49m\u001b[39m.\u001b[39;49mindex, label, coord_name, method, tolerance)\n\u001b[1;32m    443\u001b[0m \u001b[39melif\u001b[39;00m is_dict_like(label):\n\u001b[1;32m    444\u001b[0m     \u001b[39mraise\u001b[39;00m \u001b[39mValueError\u001b[39;00m(\n\u001b[1;32m    445\u001b[0m         \u001b[39m\"\u001b[39m\u001b[39mcannot use a dict-like object for selection on \u001b[39m\u001b[39m\"\u001b[39m\n\u001b[1;32m    446\u001b[0m         \u001b[39m\"\u001b[39m\u001b[39ma dimension that does not have a MultiIndex\u001b[39m\u001b[39m\"\u001b[39m\n\u001b[1;32m    447\u001b[0m     )\n",
      "File \u001b[0;32m~/miniconda3/envs/py39/lib/python3.9/site-packages/xarray/core/indexes.py:207\u001b[0m, in \u001b[0;36m_query_slice\u001b[0;34m(index, label, coord_name, method, tolerance)\u001b[0m\n\u001b[1;32m    203\u001b[0m \u001b[39mif\u001b[39;00m method \u001b[39mis\u001b[39;00m \u001b[39mnot\u001b[39;00m \u001b[39mNone\u001b[39;00m \u001b[39mor\u001b[39;00m tolerance \u001b[39mis\u001b[39;00m \u001b[39mnot\u001b[39;00m \u001b[39mNone\u001b[39;00m:\n\u001b[1;32m    204\u001b[0m     \u001b[39mraise\u001b[39;00m \u001b[39mNotImplementedError\u001b[39;00m(\n\u001b[1;32m    205\u001b[0m         \u001b[39m\"\u001b[39m\u001b[39mcannot use ``method`` argument if any indexers are slice objects\u001b[39m\u001b[39m\"\u001b[39m\n\u001b[1;32m    206\u001b[0m     )\n\u001b[0;32m--> 207\u001b[0m indexer \u001b[39m=\u001b[39m index\u001b[39m.\u001b[39;49mslice_indexer(\n\u001b[1;32m    208\u001b[0m     _sanitize_slice_element(label\u001b[39m.\u001b[39;49mstart),\n\u001b[1;32m    209\u001b[0m     _sanitize_slice_element(label\u001b[39m.\u001b[39;49mstop),\n\u001b[1;32m    210\u001b[0m     _sanitize_slice_element(label\u001b[39m.\u001b[39;49mstep),\n\u001b[1;32m    211\u001b[0m )\n\u001b[1;32m    212\u001b[0m \u001b[39mif\u001b[39;00m \u001b[39mnot\u001b[39;00m \u001b[39misinstance\u001b[39m(indexer, \u001b[39mslice\u001b[39m):\n\u001b[1;32m    213\u001b[0m     \u001b[39m# unlike pandas, in xarray we never want to silently convert a\u001b[39;00m\n\u001b[1;32m    214\u001b[0m     \u001b[39m# slice indexer into an array indexer\u001b[39;00m\n\u001b[1;32m    215\u001b[0m     \u001b[39mraise\u001b[39;00m \u001b[39mKeyError\u001b[39;00m(\n\u001b[1;32m    216\u001b[0m         \u001b[39m\"\u001b[39m\u001b[39mcannot represent labeled-based slice indexer for coordinate \u001b[39m\u001b[39m\"\u001b[39m\n\u001b[1;32m    217\u001b[0m         \u001b[39mf\u001b[39m\u001b[39m\"\u001b[39m\u001b[39m{\u001b[39;00mcoord_name\u001b[39m!r}\u001b[39;00m\u001b[39m with a slice over integer positions; the index is \u001b[39m\u001b[39m\"\u001b[39m\n\u001b[1;32m    218\u001b[0m         \u001b[39m\"\u001b[39m\u001b[39munsorted or non-unique\u001b[39m\u001b[39m\"\u001b[39m\n\u001b[1;32m    219\u001b[0m     )\n",
      "File \u001b[0;32m~/miniconda3/envs/py39/lib/python3.9/site-packages/pandas/core/indexes/base.py:6602\u001b[0m, in \u001b[0;36mIndex.slice_indexer\u001b[0;34m(self, start, end, step, kind)\u001b[0m\n\u001b[1;32m   6559\u001b[0m \u001b[39m\u001b[39m\u001b[39m\"\"\"\u001b[39;00m\n\u001b[1;32m   6560\u001b[0m \u001b[39mCompute the slice indexer for input labels and step.\u001b[39;00m\n\u001b[1;32m   6561\u001b[0m \n\u001b[0;32m   (...)\u001b[0m\n\u001b[1;32m   6598\u001b[0m \u001b[39mslice(1, 3, None)\u001b[39;00m\n\u001b[1;32m   6599\u001b[0m \u001b[39m\"\"\"\u001b[39;00m\n\u001b[1;32m   6600\u001b[0m \u001b[39mself\u001b[39m\u001b[39m.\u001b[39m_deprecated_arg(kind, \u001b[39m\"\u001b[39m\u001b[39mkind\u001b[39m\u001b[39m\"\u001b[39m, \u001b[39m\"\u001b[39m\u001b[39mslice_indexer\u001b[39m\u001b[39m\"\u001b[39m)\n\u001b[0;32m-> 6602\u001b[0m start_slice, end_slice \u001b[39m=\u001b[39m \u001b[39mself\u001b[39;49m\u001b[39m.\u001b[39;49mslice_locs(start, end, step\u001b[39m=\u001b[39;49mstep)\n\u001b[1;32m   6604\u001b[0m \u001b[39m# return a slice\u001b[39;00m\n\u001b[1;32m   6605\u001b[0m \u001b[39mif\u001b[39;00m \u001b[39mnot\u001b[39;00m is_scalar(start_slice):\n",
      "File \u001b[0;32m~/miniconda3/envs/py39/lib/python3.9/site-packages/pandas/core/indexes/base.py:6810\u001b[0m, in \u001b[0;36mIndex.slice_locs\u001b[0;34m(self, start, end, step, kind)\u001b[0m\n\u001b[1;32m   6808\u001b[0m start_slice \u001b[39m=\u001b[39m \u001b[39mNone\u001b[39;00m\n\u001b[1;32m   6809\u001b[0m \u001b[39mif\u001b[39;00m start \u001b[39mis\u001b[39;00m \u001b[39mnot\u001b[39;00m \u001b[39mNone\u001b[39;00m:\n\u001b[0;32m-> 6810\u001b[0m     start_slice \u001b[39m=\u001b[39m \u001b[39mself\u001b[39;49m\u001b[39m.\u001b[39;49mget_slice_bound(start, \u001b[39m\"\u001b[39;49m\u001b[39mleft\u001b[39;49m\u001b[39m\"\u001b[39;49m)\n\u001b[1;32m   6811\u001b[0m \u001b[39mif\u001b[39;00m start_slice \u001b[39mis\u001b[39;00m \u001b[39mNone\u001b[39;00m:\n\u001b[1;32m   6812\u001b[0m     start_slice \u001b[39m=\u001b[39m \u001b[39m0\u001b[39m\n",
      "File \u001b[0;32m~/miniconda3/envs/py39/lib/python3.9/site-packages/pandas/core/indexes/base.py:6726\u001b[0m, in \u001b[0;36mIndex.get_slice_bound\u001b[0;34m(self, label, side, kind)\u001b[0m\n\u001b[1;32m   6724\u001b[0m \u001b[39mexcept\u001b[39;00m \u001b[39mKeyError\u001b[39;00m \u001b[39mas\u001b[39;00m err:\n\u001b[1;32m   6725\u001b[0m     \u001b[39mtry\u001b[39;00m:\n\u001b[0;32m-> 6726\u001b[0m         \u001b[39mreturn\u001b[39;00m \u001b[39mself\u001b[39;49m\u001b[39m.\u001b[39;49m_searchsorted_monotonic(label, side)\n\u001b[1;32m   6727\u001b[0m     \u001b[39mexcept\u001b[39;00m \u001b[39mValueError\u001b[39;00m:\n\u001b[1;32m   6728\u001b[0m         \u001b[39m# raise the original KeyError\u001b[39;00m\n\u001b[1;32m   6729\u001b[0m         \u001b[39mraise\u001b[39;00m err\n",
      "File \u001b[0;32m~/miniconda3/envs/py39/lib/python3.9/site-packages/pandas/core/indexes/base.py:6672\u001b[0m, in \u001b[0;36mIndex._searchsorted_monotonic\u001b[0;34m(self, label, side)\u001b[0m\n\u001b[1;32m   6670\u001b[0m \u001b[39mdef\u001b[39;00m \u001b[39m_searchsorted_monotonic\u001b[39m(\u001b[39mself\u001b[39m, label, side: Literal[\u001b[39m\"\u001b[39m\u001b[39mleft\u001b[39m\u001b[39m\"\u001b[39m, \u001b[39m\"\u001b[39m\u001b[39mright\u001b[39m\u001b[39m\"\u001b[39m] \u001b[39m=\u001b[39m \u001b[39m\"\u001b[39m\u001b[39mleft\u001b[39m\u001b[39m\"\u001b[39m):\n\u001b[1;32m   6671\u001b[0m     \u001b[39mif\u001b[39;00m \u001b[39mself\u001b[39m\u001b[39m.\u001b[39mis_monotonic_increasing:\n\u001b[0;32m-> 6672\u001b[0m         \u001b[39mreturn\u001b[39;00m \u001b[39mself\u001b[39;49m\u001b[39m.\u001b[39;49msearchsorted(label, side\u001b[39m=\u001b[39;49mside)\n\u001b[1;32m   6673\u001b[0m     \u001b[39melif\u001b[39;00m \u001b[39mself\u001b[39m\u001b[39m.\u001b[39mis_monotonic_decreasing:\n\u001b[1;32m   6674\u001b[0m         \u001b[39m# np.searchsorted expects ascending sort order, have to reverse\u001b[39;00m\n\u001b[1;32m   6675\u001b[0m         \u001b[39m# everything for it to work (element ordering, search side and\u001b[39;00m\n\u001b[1;32m   6676\u001b[0m         \u001b[39m# resulting value).\u001b[39;00m\n\u001b[1;32m   6677\u001b[0m         pos \u001b[39m=\u001b[39m \u001b[39mself\u001b[39m[::\u001b[39m-\u001b[39m\u001b[39m1\u001b[39m]\u001b[39m.\u001b[39msearchsorted(\n\u001b[1;32m   6678\u001b[0m             label, side\u001b[39m=\u001b[39m\u001b[39m\"\u001b[39m\u001b[39mright\u001b[39m\u001b[39m\"\u001b[39m \u001b[39mif\u001b[39;00m side \u001b[39m==\u001b[39m \u001b[39m\"\u001b[39m\u001b[39mleft\u001b[39m\u001b[39m\"\u001b[39m \u001b[39melse\u001b[39;00m \u001b[39m\"\u001b[39m\u001b[39mleft\u001b[39m\u001b[39m\"\u001b[39m\n\u001b[1;32m   6679\u001b[0m         )\n",
      "File \u001b[0;32m~/miniconda3/envs/py39/lib/python3.9/site-packages/pandas/core/base.py:1298\u001b[0m, in \u001b[0;36mIndexOpsMixin.searchsorted\u001b[0;34m(self, value, side, sorter)\u001b[0m\n\u001b[1;32m   1294\u001b[0m \u001b[39mif\u001b[39;00m \u001b[39mnot\u001b[39;00m \u001b[39misinstance\u001b[39m(values, np\u001b[39m.\u001b[39mndarray):\n\u001b[1;32m   1295\u001b[0m     \u001b[39m# Going through EA.searchsorted directly improves performance GH#38083\u001b[39;00m\n\u001b[1;32m   1296\u001b[0m     \u001b[39mreturn\u001b[39;00m values\u001b[39m.\u001b[39msearchsorted(value, side\u001b[39m=\u001b[39mside, sorter\u001b[39m=\u001b[39msorter)\n\u001b[0;32m-> 1298\u001b[0m \u001b[39mreturn\u001b[39;00m algorithms\u001b[39m.\u001b[39;49msearchsorted(\n\u001b[1;32m   1299\u001b[0m     values,\n\u001b[1;32m   1300\u001b[0m     value,\n\u001b[1;32m   1301\u001b[0m     side\u001b[39m=\u001b[39;49mside,\n\u001b[1;32m   1302\u001b[0m     sorter\u001b[39m=\u001b[39;49msorter,\n\u001b[1;32m   1303\u001b[0m )\n",
      "File \u001b[0;32m~/miniconda3/envs/py39/lib/python3.9/site-packages/pandas/core/algorithms.py:1665\u001b[0m, in \u001b[0;36msearchsorted\u001b[0;34m(arr, value, side, sorter)\u001b[0m\n\u001b[1;32m   1661\u001b[0m     arr \u001b[39m=\u001b[39m ensure_wrapped_if_datetimelike(arr)\n\u001b[1;32m   1663\u001b[0m \u001b[39m# Argument 1 to \"searchsorted\" of \"ndarray\" has incompatible type\u001b[39;00m\n\u001b[1;32m   1664\u001b[0m \u001b[39m# \"Union[NumpyValueArrayLike, ExtensionArray]\"; expected \"NumpyValueArrayLike\"\u001b[39;00m\n\u001b[0;32m-> 1665\u001b[0m \u001b[39mreturn\u001b[39;00m arr\u001b[39m.\u001b[39;49msearchsorted(value, side\u001b[39m=\u001b[39;49mside, sorter\u001b[39m=\u001b[39;49msorter)\n",
      "\u001b[0;31mTypeError\u001b[0m: '>' not supported between instances of 'int' and 'cftime._cftime.DatetimeNoLeap'"
     ]
    }
   ],
   "source": [
    "# Get current working directory based on location of current ipynb file in the\n",
    "# notebooks folder and then link to path for already pre-processed ERA5 and GCM\n",
    "# datasets.\n",
    "currpath = Path.cwd()\n",
    "datapath = currpath.joinpath('../data')\n",
    "era5_datapath = datapath.joinpath('processed/climate/era5')\n",
    "gcm_datapath = datapath.joinpath('processed/climate/cmip6/EC-Earth3-Veg')\n",
    "\n",
    "# Set yr ranges\n",
    "hst_yr = np.arange(1980,2010) # Historical years for reference\n",
    "prj_yr = np.arange(2030,2060) # Projected years\n",
    "\n",
    "# The following lines of code are commented out, but they would provide the \n",
    "# method for loading the spatial datasets and extracting all data needed to \n",
    "# conduct the analysis for a single location/grid cell.\n",
    "\n",
    "ref_filelist = list(era5_datapath.glob('tas_*')) \\\n",
    "               + list(era5_datapath.glob('pr_*')) \\\n",
    "               + list(era5_datapath.glob('sfcWind_*'))\n",
    "gcm_filelist = list(gcm_datapath.glob('tas_*')) \\\n",
    "               + list(gcm_datapath.glob('pr_*')) \\\n",
    "               + list(gcm_datapath.glob('sfcWind_*'))\n",
    "\n",
    "# Use parallel=True below to initiate use of dask arrays and parallel \n",
    "# computing. This is likely necessary on personal computers due to memory \n",
    "# needs. Separate out gcm into both historical and projected variables based on\n",
    "# years/time periods. Then delete gcm variable ('del gcm') as no longer needed.\n",
    "#\n",
    "ref = xr.open_mfdataset(ref_filelist,engine='h5netcdf',parallel=True)\n",
    "gcm = xr.open_mfdataset(gcm_filelist,engine='h5netcdf',parallel=True)\n",
    "\n",
    "hst = gcm.sel(time=slice(str(hst_yr[0]),str(hst_yr[-1])))\n",
    "prj = gcm.sel(time=slice(str(prj_yr[0]),str(prj_yr[-1])))\n",
    "\n",
    "del gcm"
   ]
  },
  {
   "attachments": {},
   "cell_type": "markdown",
   "metadata": {},
   "source": [
    "Next, we will linearly interpolate the GCM data to the resolution of ERA5. They need to be on the same grid system and align with each other to do the bias corrections. This is also commented out for the sake of "
   ]
  },
  {
   "cell_type": "code",
   "execution_count": null,
   "metadata": {},
   "outputs": [],
   "source": [
    "# >>> ref_lat = ref['lat'].values\n",
    "# >>> ref_lon = ref['lon'].values\n",
    "#\n",
    "# >>> hst = hst.interp(lat=ref_lat,lon=ref_lon,method=\"linear\")\n",
    "# >>> prj = prj.interp(lat=ref_lat,lon=ref_lon,method=\"linear\")"
   ]
  },
  {
   "attachments": {},
   "cell_type": "markdown",
   "metadata": {},
   "source": [
    "Next, filter the datasets to only a single grid cell based on latitude and longitude. Here we will use Fairbanks, Alaska."
   ]
  },
  {
   "cell_type": "code",
   "execution_count": null,
   "metadata": {},
   "outputs": [
    {
     "ename": "NameError",
     "evalue": "name 'x' is not defined",
     "output_type": "error",
     "traceback": [
      "\u001b[0;31m---------------------------------------------------------------------------\u001b[0m",
      "\u001b[0;31mNameError\u001b[0m                                 Traceback (most recent call last)",
      "Cell \u001b[0;32mIn[62], line 1\u001b[0m\n\u001b[0;32m----> 1\u001b[0m fairbanks \u001b[39m=\u001b[39m (x,y)\n\u001b[1;32m      2\u001b[0m ref_pt \u001b[39m=\u001b[39m ref\u001b[39m.\u001b[39msel(lat\u001b[39m=\u001b[39my,lon\u001b[39m=\u001b[39mx,)\n",
      "\u001b[0;31mNameError\u001b[0m: name 'x' is not defined"
     ]
    }
   ],
   "source": [
    "coords = dict(lon=-147.72,lat=64.8401) # Coordinates for Fairbanks AK\n",
    "# >>> ref_pt = ref.sel(lat=coords['lat'],lon=coords['lon'],method=\"nearest\")\n",
    "# >>> hst_pt = hst.sel(lat=coords['lat'],lon=coords['lon'],method=\"nearest\")\n",
    "# >>> prj_pt = prj.sel(lat=coords['lat'],lon=coords['lon'],method=\"nearest\")"
   ]
  },
  {
   "attachments": {},
   "cell_type": "markdown",
   "metadata": {},
   "source": [
    "#### References\n",
    "- xarray:               <https://docs.xarray.dev>  \n",
    "- Cannon et al. 2015:   <https://doi.org/10.1175/JCLI-D-14-00754.1>  \n",
    "- xclim:                <https://github.com/Ouranosinc/xclim>  \n",
    "- ERA5:                 <https://www.ecmwf.int/en/forecasts/datasets/reanalysis-datasets/era5>  \n",
    "- EC-Earth3-Veg:        <https://doi.org/10.5194/gmd-15-2973-2022>\n",
    "- GCM-eval tool:        <https://gcmeval.met.no>"
   ]
  }
 ],
 "metadata": {
  "kernelspec": {
   "display_name": "py39",
   "language": "python",
   "name": "python3"
  },
  "language_info": {
   "codemirror_mode": {
    "name": "ipython",
    "version": 3
   },
   "file_extension": ".py",
   "mimetype": "text/x-python",
   "name": "python",
   "nbconvert_exporter": "python",
   "pygments_lexer": "ipython3",
   "version": "3.9.15"
  },
  "orig_nbformat": 4,
  "vscode": {
   "interpreter": {
    "hash": "87269669d50224d3604d1f5947c22e39b917a1fd9a619ea79768bc59a503c1ec"
   }
  }
 },
 "nbformat": 4,
 "nbformat_minor": 2
}
